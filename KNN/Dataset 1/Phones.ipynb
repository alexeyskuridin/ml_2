{
 "cells": [
  {
   "cell_type": "code",
   "execution_count": 1,
   "metadata": {
    "scrolled": false
   },
   "outputs": [
    {
     "name": "stdout",
     "output_type": "stream",
     "text": [
      "Requirement already satisfied: tensorflow in d:\\programms\\anaconda\\lib\\site-packages (1.13.1)\n",
      "Requirement already satisfied: protobuf>=3.6.1 in d:\\programms\\anaconda\\lib\\site-packages (from tensorflow) (3.11.4)\n",
      "Requirement already satisfied: gast>=0.2.0 in d:\\programms\\anaconda\\lib\\site-packages (from tensorflow) (0.3.3)\n",
      "Requirement already satisfied: tensorboard<1.14.0,>=1.13.0 in d:\\programms\\anaconda\\lib\\site-packages (from tensorflow) (1.13.1)\n",
      "Requirement already satisfied: termcolor>=1.1.0 in d:\\programms\\anaconda\\lib\\site-packages (from tensorflow) (1.1.0)\n",
      "Requirement already satisfied: keras-applications>=1.0.6 in d:\\programms\\anaconda\\lib\\site-packages (from tensorflow) (1.0.8)\n",
      "Requirement already satisfied: six>=1.10.0 in d:\\programms\\anaconda\\lib\\site-packages (from tensorflow) (1.14.0)\n",
      "Requirement already satisfied: grpcio>=1.8.6 in d:\\programms\\anaconda\\lib\\site-packages (from tensorflow) (1.23.0)\n",
      "Requirement already satisfied: absl-py>=0.1.6 in d:\\programms\\anaconda\\lib\\site-packages (from tensorflow) (0.9.0)\n",
      "Requirement already satisfied: astor>=0.6.0 in d:\\programms\\anaconda\\lib\\site-packages (from tensorflow) (0.7.1)\n",
      "Requirement already satisfied: wheel>=0.26 in d:\\programms\\anaconda\\lib\\site-packages (from tensorflow) (0.34.2)\n",
      "Requirement already satisfied: numpy>=1.13.3 in d:\\programms\\anaconda\\lib\\site-packages (from tensorflow) (1.18.1)\n",
      "Requirement already satisfied: keras-preprocessing>=1.0.5 in d:\\programms\\anaconda\\lib\\site-packages (from tensorflow) (1.1.0)\n",
      "Requirement already satisfied: tensorflow-estimator<1.14.0rc0,>=1.13.0 in d:\\programms\\anaconda\\lib\\site-packages (from tensorflow) (1.13.0)\n",
      "Requirement already satisfied: setuptools in d:\\programms\\anaconda\\lib\\site-packages (from protobuf>=3.6.1->tensorflow) (45.2.0.post20200210)\n",
      "Requirement already satisfied: markdown>=2.6.8 in d:\\programms\\anaconda\\lib\\site-packages (from tensorboard<1.14.0,>=1.13.0->tensorflow) (3.2.1)\n",
      "Requirement already satisfied: werkzeug>=0.11.15 in d:\\programms\\anaconda\\lib\\site-packages (from tensorboard<1.14.0,>=1.13.0->tensorflow) (1.0.0)\n",
      "Requirement already satisfied: h5py in d:\\programms\\anaconda\\lib\\site-packages (from keras-applications>=1.0.6->tensorflow) (2.10.0)\n",
      "Requirement already satisfied: mock>=2.0.0 in d:\\programms\\anaconda\\lib\\site-packages (from tensorflow-estimator<1.14.0rc0,>=1.13.0->tensorflow) (4.0.1)\n",
      "Requirement already satisfied: keras in d:\\programms\\anaconda\\lib\\site-packages (2.3.1)\n",
      "Requirement already satisfied: pyyaml in d:\\programms\\anaconda\\lib\\site-packages (from keras) (5.3)\n",
      "Requirement already satisfied: scipy>=0.14 in d:\\programms\\anaconda\\lib\\site-packages (from keras) (1.4.1)\n",
      "Requirement already satisfied: keras-applications>=1.0.6 in d:\\programms\\anaconda\\lib\\site-packages (from keras) (1.0.8)\n",
      "Requirement already satisfied: six>=1.9.0 in d:\\programms\\anaconda\\lib\\site-packages (from keras) (1.14.0)\n",
      "Requirement already satisfied: h5py in d:\\programms\\anaconda\\lib\\site-packages (from keras) (2.10.0)\n",
      "Requirement already satisfied: keras-preprocessing>=1.0.5 in d:\\programms\\anaconda\\lib\\site-packages (from keras) (1.1.0)\n",
      "Requirement already satisfied: numpy>=1.9.1 in d:\\programms\\anaconda\\lib\\site-packages (from keras) (1.18.1)\n",
      "Requirement already satisfied: pandas in d:\\programms\\anaconda\\lib\\site-packages (1.0.1)\n",
      "Requirement already satisfied: python-dateutil>=2.6.1 in d:\\programms\\anaconda\\lib\\site-packages (from pandas) (2.8.1)\n",
      "Requirement already satisfied: numpy>=1.13.3 in d:\\programms\\anaconda\\lib\\site-packages (from pandas) (1.18.1)\n",
      "Requirement already satisfied: pytz>=2017.2 in d:\\programms\\anaconda\\lib\\site-packages (from pandas) (2019.3)\n",
      "Requirement already satisfied: six>=1.5 in d:\\programms\\anaconda\\lib\\site-packages (from python-dateutil>=2.6.1->pandas) (1.14.0)\n",
      "Requirement already satisfied: scikit-learn in d:\\programms\\anaconda\\lib\\site-packages (0.22.1)\n",
      "Requirement already satisfied: joblib>=0.11 in d:\\programms\\anaconda\\lib\\site-packages (from scikit-learn) (0.14.1)\n",
      "Requirement already satisfied: scipy>=0.17.0 in d:\\programms\\anaconda\\lib\\site-packages (from scikit-learn) (1.4.1)\n",
      "Requirement already satisfied: numpy>=1.11.0 in d:\\programms\\anaconda\\lib\\site-packages (from scikit-learn) (1.18.1)\n",
      "Requirement already satisfied: scipy in d:\\programms\\anaconda\\lib\\site-packages (1.4.1)\n",
      "Requirement already satisfied: numpy>=1.13.3 in d:\\programms\\anaconda\\lib\\site-packages (from scipy) (1.18.1)\n"
     ]
    },
    {
     "name": "stderr",
     "output_type": "stream",
     "text": [
      "D:\\Programms\\Anaconda\\lib\\site-packages\\tensorflow\\python\\framework\\dtypes.py:526: FutureWarning: Passing (type, 1) or '1type' as a synonym of type is deprecated; in a future version of numpy, it will be understood as (type, (1,)) / '(1,)type'.\n",
      "  _np_qint8 = np.dtype([(\"qint8\", np.int8, 1)])\n",
      "D:\\Programms\\Anaconda\\lib\\site-packages\\tensorflow\\python\\framework\\dtypes.py:527: FutureWarning: Passing (type, 1) or '1type' as a synonym of type is deprecated; in a future version of numpy, it will be understood as (type, (1,)) / '(1,)type'.\n",
      "  _np_quint8 = np.dtype([(\"quint8\", np.uint8, 1)])\n",
      "D:\\Programms\\Anaconda\\lib\\site-packages\\tensorflow\\python\\framework\\dtypes.py:528: FutureWarning: Passing (type, 1) or '1type' as a synonym of type is deprecated; in a future version of numpy, it will be understood as (type, (1,)) / '(1,)type'.\n",
      "  _np_qint16 = np.dtype([(\"qint16\", np.int16, 1)])\n",
      "D:\\Programms\\Anaconda\\lib\\site-packages\\tensorflow\\python\\framework\\dtypes.py:529: FutureWarning: Passing (type, 1) or '1type' as a synonym of type is deprecated; in a future version of numpy, it will be understood as (type, (1,)) / '(1,)type'.\n",
      "  _np_quint16 = np.dtype([(\"quint16\", np.uint16, 1)])\n",
      "D:\\Programms\\Anaconda\\lib\\site-packages\\tensorflow\\python\\framework\\dtypes.py:530: FutureWarning: Passing (type, 1) or '1type' as a synonym of type is deprecated; in a future version of numpy, it will be understood as (type, (1,)) / '(1,)type'.\n",
      "  _np_qint32 = np.dtype([(\"qint32\", np.int32, 1)])\n",
      "D:\\Programms\\Anaconda\\lib\\site-packages\\tensorflow\\python\\framework\\dtypes.py:535: FutureWarning: Passing (type, 1) or '1type' as a synonym of type is deprecated; in a future version of numpy, it will be understood as (type, (1,)) / '(1,)type'.\n",
      "  np_resource = np.dtype([(\"resource\", np.ubyte, 1)])\n",
      "Using TensorFlow backend.\n"
     ]
    }
   ],
   "source": [
    "!pip install tensorflow\n",
    "!pip install keras\n",
    "!pip install pandas\n",
    "!pip install scikit-learn\n",
    "!pip install scipy\n",
    "\n",
    "import numpy as np\n",
    "import sys\n",
    "import pandas as pd\n",
    "import scipy as sp\n",
    "import tensorflow as tf\n",
    "import builtins\n",
    "import os\n",
    "import pickle\n",
    "import time\n",
    "import pylab\n",
    "import cv2\n",
    "import keras\n",
    "import sys\n",
    "import csv\n",
    "from matplotlib import pyplot as plt\n",
    "from sklearn import preprocessing"
   ]
  },
  {
   "cell_type": "code",
   "execution_count": 2,
   "metadata": {},
   "outputs": [
    {
     "data": {
      "text/plain": [
       "Index(['battery_power', 'blue', 'clock_speed', 'dual_sim', 'fc', 'four_g',\n",
       "       'int_memory', 'm_dep', 'mobile_wt', 'n_cores', 'pc', 'px_height',\n",
       "       'px_width', 'ram', 'sc_h', 'sc_w', 'talk_time', 'three_g',\n",
       "       'touch_screen', 'wifi', 'price_range'],\n",
       "      dtype='object')"
      ]
     },
     "execution_count": 2,
     "metadata": {},
     "output_type": "execute_result"
    }
   ],
   "source": [
    "#Считываем датасет (тренировочный)\n",
    "\n",
    "phones = pd.read_csv(\"train.csv\")\n",
    "#flats.head()\n",
    "phones.columns\n",
    "#flats.describe(include = \"all\")\n",
    "#print(flats)\n",
    "#phones.price_range"
   ]
  },
  {
   "cell_type": "code",
   "execution_count": 3,
   "metadata": {},
   "outputs": [],
   "source": [
    "#Вносим изменения в датасет\n",
    "\n",
    "def core(x,i):#функция, которая определяет новый признак\n",
    "    if(x == i):\n",
    "        return 1\n",
    "    else:\n",
    "        return 0\n",
    "\n",
    "core_1 = phones.apply(lambda x: core(x.n_cores,1), axis = 1)\n",
    "phones['core_1'] = core_1.array#добавляю новый признак в датасет\n",
    "#flats.columns\n",
    "#flats"
   ]
  },
  {
   "cell_type": "code",
   "execution_count": 4,
   "metadata": {
    "scrolled": false
   },
   "outputs": [
    {
     "data": {
      "text/plain": [
       "array([[<matplotlib.axes._subplots.AxesSubplot object at 0x000002C6B41B0248>,\n",
       "        <matplotlib.axes._subplots.AxesSubplot object at 0x000002C6B4157508>,\n",
       "        <matplotlib.axes._subplots.AxesSubplot object at 0x000002C6B42E3488>,\n",
       "        <matplotlib.axes._subplots.AxesSubplot object at 0x000002C6B431A588>,\n",
       "        <matplotlib.axes._subplots.AxesSubplot object at 0x000002C6B43526C8>],\n",
       "       [<matplotlib.axes._subplots.AxesSubplot object at 0x000002C6B4389788>,\n",
       "        <matplotlib.axes._subplots.AxesSubplot object at 0x000002C6B43C2888>,\n",
       "        <matplotlib.axes._subplots.AxesSubplot object at 0x000002C6B43FB9C8>,\n",
       "        <matplotlib.axes._subplots.AxesSubplot object at 0x000002C6B44065C8>,\n",
       "        <matplotlib.axes._subplots.AxesSubplot object at 0x000002C6B443F748>],\n",
       "       [<matplotlib.axes._subplots.AxesSubplot object at 0x000002C6B44A4C48>,\n",
       "        <matplotlib.axes._subplots.AxesSubplot object at 0x000002C6B44DBD48>,\n",
       "        <matplotlib.axes._subplots.AxesSubplot object at 0x000002C6B4513E48>,\n",
       "        <matplotlib.axes._subplots.AxesSubplot object at 0x000002C6B454BF88>,\n",
       "        <matplotlib.axes._subplots.AxesSubplot object at 0x000002C6B458A0C8>],\n",
       "       [<matplotlib.axes._subplots.AxesSubplot object at 0x000002C6B45C0188>,\n",
       "        <matplotlib.axes._subplots.AxesSubplot object at 0x000002C6B45F92C8>,\n",
       "        <matplotlib.axes._subplots.AxesSubplot object at 0x000002C6B4631408>,\n",
       "        <matplotlib.axes._subplots.AxesSubplot object at 0x000002C6B4669508>,\n",
       "        <matplotlib.axes._subplots.AxesSubplot object at 0x000002C6B46A1608>],\n",
       "       [<matplotlib.axes._subplots.AxesSubplot object at 0x000002C6B46DEE88>,\n",
       "        <matplotlib.axes._subplots.AxesSubplot object at 0x000002C6B4711788>,\n",
       "        <matplotlib.axes._subplots.AxesSubplot object at 0x000002C6B4749888>,\n",
       "        <matplotlib.axes._subplots.AxesSubplot object at 0x000002C6B4781A88>,\n",
       "        <matplotlib.axes._subplots.AxesSubplot object at 0x000002C6B47B8C48>]],\n",
       "      dtype=object)"
      ]
     },
     "execution_count": 4,
     "metadata": {},
     "output_type": "execute_result"
    },
    {
     "data": {
      "image/png": "[encoded data removed]",
      "text/plain": [
       "<Figure size 1440x1080 with 25 Axes>"
      ]
     },
     "metadata": {
      "needs_background": "light"
     },
     "output_type": "display_data"
    }
   ],
   "source": [
    "#Анализируем датасет\n",
    "%matplotlib inline\n",
    "phones.hist(bins=50,figsize=(20,15))"
   ]
  },
  {
   "cell_type": "code",
   "execution_count": 5,
   "metadata": {
    "scrolled": false
   },
   "outputs": [
    {
     "data": {
      "text/plain": [
       "<matplotlib.axes._subplots.AxesSubplot at 0x2c6acaf2248>"
      ]
     },
     "execution_count": 5,
     "metadata": {},
     "output_type": "execute_result"
    },
    {
     "data": {
      "image/png": "[encoded data removed]",
      "text/plain": [
       "<Figure size 432x288 with 1 Axes>"
      ]
     },
     "metadata": {
      "needs_background": "light"
     },
     "output_type": "display_data"
    }
   ],
   "source": [
    "#Продолжаем анализировать датасет\n",
    "\n",
    "phones.plot(kind = \"scatter\", x = \"price_range\", y = \"ram\", alpha = 0.1)#price_range(ram), ram(fc)\n",
    "#выголядит интригующе"
   ]
  },
  {
   "cell_type": "code",
   "execution_count": 6,
   "metadata": {},
   "outputs": [
    {
     "name": "stdout",
     "output_type": "stream",
     "text": [
      "price_range      1.000000\n",
      "ram              0.917046\n",
      "battery_power    0.200723\n",
      "px_width         0.165818\n",
      "px_height        0.148858\n",
      "int_memory       0.044435\n",
      "sc_w             0.038711\n",
      "pc               0.033599\n",
      "three_g          0.023611\n",
      "sc_h             0.022986\n",
      "fc               0.021998\n",
      "talk_time        0.021859\n",
      "blue             0.020573\n",
      "wifi             0.018785\n",
      "dual_sim         0.017444\n",
      "core_1           0.016455\n",
      "four_g           0.014772\n",
      "n_cores          0.004399\n",
      "m_dep            0.000853\n",
      "clock_speed     -0.006606\n",
      "mobile_wt       -0.030302\n",
      "touch_screen    -0.030411\n",
      "Name: price_range, dtype: float64\n"
     ]
    }
   ],
   "source": [
    "#Корреляция 1\n",
    "corr = phones.corr()\n",
    "print(corr[\"price_range\"].sort_values(ascending = False))#видно, что price_range и ram сильно зависят друг от друга\n",
    "#"
   ]
  },
  {
   "cell_type": "code",
   "execution_count": 7,
   "metadata": {},
   "outputs": [
    {
     "name": "stdout",
     "output_type": "stream",
     "text": [
      "price_range      1.000000\n",
      "ram              0.917046\n",
      "battery_power    0.200723\n",
      "px_width         0.165818\n",
      "px_height        0.148858\n",
      "int_memory       0.044435\n",
      "sc_w             0.038711\n",
      "pc               0.033599\n",
      "three_g          0.023611\n",
      "sc_h             0.022986\n",
      "fc               0.021998\n",
      "talk_time        0.021859\n",
      "blue             0.020573\n",
      "wifi             0.018785\n",
      "dual_sim         0.017444\n",
      "core_1           0.016455\n",
      "four_g           0.014772\n",
      "n_cores          0.004399\n",
      "m_dep            0.000853\n",
      "clock_speed     -0.006606\n",
      "total_speed     -0.008290\n",
      "mobile_wt       -0.030302\n",
      "touch_screen    -0.030411\n",
      "Name: price_range, dtype: float64\n"
     ]
    }
   ],
   "source": [
    "#Корреляция 2\n",
    "phones[\"total_speed\"] = phones[\"n_cores\"]*phones[\"clock_speed\"] \n",
    "corr = phones.corr()\n",
    "print(corr[\"price_range\"].sort_values(ascending = False))"
   ]
  },
  {
   "cell_type": "code",
   "execution_count": 8,
   "metadata": {
    "scrolled": false
   },
   "outputs": [
    {
     "name": "stdout",
     "output_type": "stream",
     "text": [
      "           ram  battery_power  px_width  px_height  int_memory    pc  \\\n",
      "0     0.612774       0.227789  0.170895   0.010204    0.080645  0.10   \n",
      "1     0.634687       0.347361  0.993324   0.461735    0.822581  0.30   \n",
      "2     0.627205       0.041416  0.811749   0.644388    0.629032  0.30   \n",
      "3     0.671566       0.076152  0.858478   0.620408    0.129032  0.45   \n",
      "4     0.308658       0.881764  0.475300   0.616327    0.677419  0.70   \n",
      "...        ...            ...       ...        ...         ...   ...   \n",
      "1995  0.110102       0.195725  0.927904   0.623469    0.000000  0.70   \n",
      "1996  0.474613       0.977956  0.977971   0.466837    0.596774  0.15   \n",
      "1997  0.748530       0.941884  0.755674   0.442857    0.548387  0.15   \n",
      "1998  0.163816       0.675351  0.113485   0.171429    0.709677  0.25   \n",
      "1999  0.978888       0.006012  0.169559   0.246429    0.693548  0.80   \n",
      "\n",
      "      price_range  \n",
      "0               1  \n",
      "1               2  \n",
      "2               2  \n",
      "3               2  \n",
      "4               1  \n",
      "...           ...  \n",
      "1995            0  \n",
      "1996            2  \n",
      "1997            3  \n",
      "1998            0  \n",
      "1999            3  \n",
      "\n",
      "[2000 rows x 7 columns]\n"
     ]
    }
   ],
   "source": [
    "#Нормализация признаков\n",
    "x = phones[[\"ram\"]].values.astype(float)\n",
    "min_max = preprocessing.MinMaxScaler()\n",
    "x_norm = min_max.fit_transform(x)\n",
    "phones_n = pd.DataFrame(x_norm)\n",
    "phones_n['ram'] = pd.DataFrame(x_norm)\n",
    "\n",
    "x = phones[[\"battery_power\"]].values.astype(float)\n",
    "min_max = preprocessing.MinMaxScaler()\n",
    "x_norm = min_max.fit_transform(x)\n",
    "phones_n['battery_power'] = pd.DataFrame(x_norm)\n",
    "\n",
    "x = phones[[\"px_width\"]].values.astype(float)\n",
    "min_max = preprocessing.MinMaxScaler()\n",
    "x_norm = min_max.fit_transform(x)\n",
    "phones_n['px_width'] = pd.DataFrame(x_norm)\n",
    "\n",
    "x = phones[[\"px_height\"]].values.astype(float)\n",
    "min_max = preprocessing.MinMaxScaler()\n",
    "x_norm = min_max.fit_transform(x)\n",
    "phones_n['px_height'] = pd.DataFrame(x_norm)\n",
    "\n",
    "x = phones[[\"int_memory\"]].values.astype(float)\n",
    "min_max = preprocessing.MinMaxScaler()\n",
    "x_norm = min_max.fit_transform(x)\n",
    "phones_n['int_memory'] = pd.DataFrame(x_norm)\n",
    "\n",
    "x = phones[[\"pc\"]].values.astype(float)\n",
    "min_max = preprocessing.MinMaxScaler()\n",
    "x_norm = min_max.fit_transform(x)\n",
    "phones_n['pc'] = pd.DataFrame(x_norm)\n",
    "\n",
    "phones_n['price_range'] = phones['price_range']\n",
    "del phones_n[0]\n",
    "\n",
    "print(phones_n)"
   ]
  },
  {
   "cell_type": "code",
   "execution_count": 9,
   "metadata": {},
   "outputs": [
    {
     "name": "stdout",
     "output_type": "stream",
     "text": [
      "price_range      1.000000\n",
      "ram              0.917046\n",
      "battery_power    0.200723\n",
      "px_width         0.165818\n",
      "px_height        0.148858\n",
      "int_memory       0.044435\n",
      "pc               0.033599\n",
      "Name: price_range, dtype: float64\n"
     ]
    }
   ],
   "source": [
    "#Корреляция 3\n",
    "corr = phones_n.corr()\n",
    "print(corr[\"price_range\"].sort_values(ascending = False))#видно, что price_range и ram сильно зависят друг от друга"
   ]
  },
  {
   "cell_type": "code",
   "execution_count": 38,
   "metadata": {
    "scrolled": false
   },
   "outputs": [],
   "source": [
    "#Метод ближайших k соседей\n",
    "k = 3\n",
    "from pandas import DataFrame\n",
    "\n",
    "#phones_n.sort_values(by = ['price_range','ram','battery_power','px_width','px_height','int_memory','pc'], inplace = True)\n",
    "#print(phones_n)\n",
    "\n",
    "def distance(x,y):\n",
    "    distance = 0\n",
    "    for i in range(0,6):\n",
    "        distance += (x[i] - y[i]) ** 2\n",
    "    return np.sqrt(distance)\n",
    "\n",
    "def KNN(x,k):\n",
    "    test_dist = np.zeros((2000,2))\n",
    "    test_wtf = np.zeros((2000))\n",
    "    y = np.zeros((6))\n",
    "    for i in range(0, 2000):\n",
    "        y[0] = phones_n['ram'][i]\n",
    "        y[1] = phones_n['battery_power'][i]\n",
    "        y[2] = phones_n['px_width'][i]\n",
    "        y[3] = phones_n['px_height'][i]\n",
    "        y[4] = phones_n['int_memory'][i]\n",
    "        y[5] = phones_n['pc'][i]\n",
    "        test_dist[i][0] = distance(x,y)\n",
    "        test_wtf[i] = distance(x,y)\n",
    "        test_dist[i][1] = phones_n['price_range'][i]\n",
    "    test_wtf.sort()\n",
    "    test_k = np.zeros((k,2))\n",
    "    for i in range(0,k): #Сразу извиняюсь за корявый код. Я не смог разобраться в функции np.sort, её писали явно \"под чем-то\"\n",
    "        test_k[i][0] = test_wtf[i]\n",
    "        for j in range(0,2000):\n",
    "            if(test_wtf[i] == test_dist[j][0]):\n",
    "                test_k[i][1] = test_dist[j][1]\n",
    "    vote = np.zeros((4))\n",
    "    for i in range(0,k):\n",
    "        vote[int(test_k[i][1])] += 1\n",
    "    maximum = 0\n",
    "    i_maximum = 0\n",
    "    for i in range(0,4):\n",
    "        if(vote[i] > maximum):\n",
    "            i_maximum = i\n",
    "    return i_maximum"
   ]
  },
  {
   "cell_type": "code",
   "execution_count": 34,
   "metadata": {},
   "outputs": [
    {
     "name": "stdout",
     "output_type": "stream",
     "text": [
      "          ram  battery_power  px_width  px_height  int_memory    pc\n",
      "0    0.862319       0.362241  0.608550   0.118511    0.048387  0.80\n",
      "1    0.974772       0.227485  0.237809   0.391190    0.951613  0.60\n",
      "2    0.572464       0.871915  0.577822   0.665967    0.403226  0.20\n",
      "3    0.974235       0.697799  0.835671   0.154693    0.370968  1.00\n",
      "4    0.405260       0.623082  0.206413   0.392764    0.758065  0.90\n",
      "..        ...            ...       ...        ...         ...   ...\n",
      "995  0.498658       0.800534  0.275217   0.337703    0.838710  0.85\n",
      "996  0.448202       0.072715  0.755511   0.604090    0.177419  0.10\n",
      "997  0.257649       0.456971  0.216433   0.250131    0.096774  0.60\n",
      "998  0.602791       0.689126  0.221109   0.019927    0.774194  0.60\n",
      "999  0.688406       0.513676  0.071476   0.239643    0.532258  0.95\n",
      "\n",
      "[1000 rows x 6 columns]\n"
     ]
    }
   ],
   "source": [
    "#подгружаю тестовый датасет\n",
    "phones_t = pd.read_csv(\"test.csv\")\n",
    "#Нормализация признаков\n",
    "x = phones_t[[\"ram\"]].values.astype(float)\n",
    "min_max = preprocessing.MinMaxScaler()\n",
    "x_norm = min_max.fit_transform(x)\n",
    "phones_nt = pd.DataFrame(x_norm)\n",
    "phones_nt['ram'] = pd.DataFrame(x_norm)\n",
    "\n",
    "x = phones_t[[\"battery_power\"]].values.astype(float)\n",
    "min_max = preprocessing.MinMaxScaler()\n",
    "x_norm = min_max.fit_transform(x)\n",
    "phones_nt['battery_power'] = pd.DataFrame(x_norm)\n",
    "\n",
    "x = phones_t[[\"px_width\"]].values.astype(float)\n",
    "min_max = preprocessing.MinMaxScaler()\n",
    "x_norm = min_max.fit_transform(x)\n",
    "phones_nt['px_width'] = pd.DataFrame(x_norm)\n",
    "\n",
    "x = phones_t[[\"px_height\"]].values.astype(float)\n",
    "min_max = preprocessing.MinMaxScaler()\n",
    "x_norm = min_max.fit_transform(x)\n",
    "phones_nt['px_height'] = pd.DataFrame(x_norm)\n",
    "\n",
    "x = phones_t[[\"int_memory\"]].values.astype(float)\n",
    "min_max = preprocessing.MinMaxScaler()\n",
    "x_norm = min_max.fit_transform(x)\n",
    "phones_nt['int_memory'] = pd.DataFrame(x_norm)\n",
    "\n",
    "x = phones_t[[\"pc\"]].values.astype(float)\n",
    "min_max = preprocessing.MinMaxScaler()\n",
    "x_norm = min_max.fit_transform(x)\n",
    "phones_nt['pc'] = pd.DataFrame(x_norm)\n",
    "\n",
    "phones_t.columns\n",
    "\n",
    "#phones_nt['price_range'] = phones_t['price_range']\n",
    "del phones_nt[0]\n",
    "\n",
    "print(phones_nt)"
   ]
  },
  {
   "cell_type": "code",
   "execution_count": 58,
   "metadata": {
    "scrolled": false
   },
   "outputs": [
    {
     "data": {
      "text/plain": [
       "1"
      ]
     },
     "execution_count": 58,
     "metadata": {},
     "output_type": "execute_result"
    }
   ],
   "source": [
    "#тесты проводятся тут\n",
    "num = 15\n",
    "\n",
    "x_test = np.zeros((6))\n",
    "x_test[0] = phones_nt['ram'][num]\n",
    "x_test[1] = phones_nt['battery_power'][num]\n",
    "x_test[2] = phones_nt['px_width'][num]\n",
    "x_test[3] = phones_nt['px_height'][num]\n",
    "x_test[4] = phones_nt['int_memory'][num]\n",
    "x_test[5] = phones_nt['pc'][num]\n",
    "\n",
    "KNN(x_test, k)#из-за большого времени работы алгоритма лучше по отдельности вектора x_i подгружать,\n",
    "#чем всю матрицу целиком"
   ]
  },
  {
   "cell_type": "code",
   "execution_count": 45,
   "metadata": {},
   "outputs": [
    {
     "data": {
      "text/plain": [
       "KNeighborsClassifier(algorithm='auto', leaf_size=30, metric='minkowski',\n",
       "                     metric_params=None, n_jobs=None, n_neighbors=3, p=2,\n",
       "                     weights='uniform')"
      ]
     },
     "execution_count": 45,
     "metadata": {},
     "output_type": "execute_result"
    }
   ],
   "source": [
    "#KNN из библиотеки\n",
    "from sklearn.neighbors import KNeighborsClassifier\n",
    "\n",
    "y = phones_n['price_range']\n",
    "X = phones_n.drop(['price_range'], axis = 1)\n",
    "\n",
    "model = KNeighborsClassifier(n_neighbors=3)\n",
    "model.fit(X,y)"
   ]
  },
  {
   "cell_type": "code",
   "execution_count": 60,
   "metadata": {},
   "outputs": [
    {
     "name": "stdout",
     "output_type": "stream",
     "text": [
      "[3 3 3 3 1 3 3 1 2 0 3 3 0 0 2 1 3 2 3 1 1 2 1 2 3 0 3 0 2 0 2 0 3 1 1 1 3\n",
      " 2 3 1 1 2 0 0 0 1 0 3 1 2 1 0 3 0 3 0 3 1 1 3 3 2 0 2 0 1 1 3 1 1 1 2 2 3\n",
      " 3 0 2 0 2 3 0 3 3 0 3 0 2 1 2 0 1 2 2 1 2 1 0 2 0 2 1 0 0 3 1 1 0 1 1 3 3\n",
      " 3 1 3 3 3 3 3 3 0 0 2 2 1 1 0 3 2 3 2 0 1 2 1 3 1 2 0 3 2 1 3 1 3 2 2 3 3\n",
      " 2 3 2 3 1 0 3 2 3 3 3 3 2 2 3 3 3 3 1 0 3 0 0 0 2 0 0 1 0 0 0 2 1 0 0 0 1\n",
      " 2 2 1 0 0 0 1 0 3 2 0 2 2 3 3 1 1 3 3 3 1 2 1 0 0 1 3 0 3 3 3 0 2 0 3 2 3\n",
      " 3 1 0 1 0 3 0 1 0 2 2 0 3 0 2 0 3 1 2 0 0 1 1 3 2 3 1 2 3 0 0 2 3 3 1 3 1\n",
      " 1 3 1 0 2 3 3 3 1 0 0 2 3 2 1 3 1 1 3 0 0 2 0 0 3 2 3 3 2 1 3 3 2 3 1 2 1\n",
      " 1 0 2 3 1 0 0 3 0 3 0 1 2 0 2 2 1 3 2 2 1 2 0 0 0 1 3 2 1 1 0 3 2 0 3 3 0\n",
      " 3 2 2 3 1 3 3 2 1 2 3 3 1 3 0 3 1 3 1 2 3 0 2 0 2 0 3 2 3 0 0 0 0 2 0 0 2\n",
      " 2 0 2 3 2 0 1 0 0 3 2 1 3 1 2 2 1 2 3 1 1 2 2 1 2 0 1 1 0 3 1 1 0 1 0 0 1\n",
      " 1 0 0 0 2 2 3 1 3 0 2 0 3 0 1 0 0 1 0 3 2 3 3 1 3 1 3 1 2 2 1 1 2 1 2 0 0\n",
      " 0 1 2 1 0 3 2 1 2 3 0 1 3 0 2 0 2 2 3 0 2 1 2 3 2 3 0 1 0 2 2 0 2 1 0 0 1\n",
      " 1 1 3 3 3 2 3 1 2 2 1 3 3 1 0 2 1 2 2 0 0 1 2 0 0 0 3 1 0 2 2 2 1 3 0 2 2\n",
      " 0 3 0 2 3 0 2 1 3 2 2 1 2 2 2 0 3 0 2 0 3 3 1 3 2 1 3 0 1 2 3 1 3 3 3 1 0\n",
      " 1 0 3 1 0 3 2 3 3 0 3 3 3 2 3 3 0 2 1 2 3 3 1 0 1 1 1 2 2 0 0 2 2 3 2 0 2\n",
      " 0 3 3 0 1 3 1 2 0 0 0 0 3 1 0 1 2 2 2 0 2 2 1 0 3 0 0 3 2 0 0 1 0 0 3 0 3\n",
      " 1 3 1 1 3 3 0 1 0 3 2 3 2 1 2 0 2 0 2 0 0 2 1 1 2 1 3 1 3 2 2 1 3 3 0 1 2\n",
      " 0 3 3 0 2 1 1 3 0 3 2 0 2 2 3 0 0 3 0 1 2 3 2 2 1 3 1 2 3 0 1 1 1 2 1 0 0\n",
      " 1 0 0 3 1 1 2 0 0 1 1 3 0 3 2 3 0 0 2 2 1 1 0 1 1 0 2 1 0 0 3 3 0 3 1 2 3\n",
      " 0 0 0 2 2 0 3 1 0 3 1 1 0 3 3 3 2 3 0 3 2 0 1 0 3 3 3 0 1 2 3 1 0 2 2 1 3\n",
      " 0 2 1 1 2 3 1 1 1 2 0 0 2 2 0 2 0 1 1 0 3 3 3 3 1 1 2 1 1 0 0 2 1 0 2 0 2\n",
      " 2 2 2 2 0 2 1 3 0 0 3 1 3 0 0 2 3 3 1 2 2 1 0 0 2 3 1 3 0 0 1 2 2 0 1 0 3\n",
      " 3 1 2 3 3 0 2 1 2 1 2 2 0 1 3 1 1 3 1 2 3 2 1 1 1 3 3 0 1 2 0 1 3 3 2 2 3\n",
      " 2 0 1 3 1 1 1 1 2 2 2 2 2 1 1 1 3 1 0 1 1 3 1 0 0 3 2 2 3 0 3 3 1 1 3 0 1\n",
      " 3 1 2 1 1 2 3 0 3 0 2 3 1 2 1 3 3 2 0 2 3 1 0 1 1 1 1 1 0 2 3 0 2 3 2 3 0\n",
      " 1 0 0 3 2 3 3 0 2 1 2 2 3 0 1 3 0 1 0 0 3 2 3 0 0 0 0 3 2 3 3 0 0 2 1 0 2\n",
      " 2]\n"
     ]
    }
   ],
   "source": [
    "pred = model.predict(phones_nt)\n",
    "print(pred)"
   ]
  },
  {
   "cell_type": "code",
   "execution_count": null,
   "metadata": {},
   "outputs": [],
   "source": []
  }
 ],
 "metadata": {
  "kernelspec": {
   "display_name": "Python 3",
   "language": "python",
   "name": "python3"
  },
  "language_info": {
   "codemirror_mode": {
    "name": "ipython",
    "version": 3
   },
   "file_extension": ".py",
   "mimetype": "text/x-python",
   "name": "python",
   "nbconvert_exporter": "python",
   "pygments_lexer": "ipython3",
   "version": "3.7.6"
  }
 },
 "nbformat": 4,
 "nbformat_minor": 4
}
